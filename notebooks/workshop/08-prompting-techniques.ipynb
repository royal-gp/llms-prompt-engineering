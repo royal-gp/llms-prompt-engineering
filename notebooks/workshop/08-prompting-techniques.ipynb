{
 "cells": [
  {
   "cell_type": "code",
   "execution_count": 29,
   "id": "4ac51a32",
   "metadata": {},
   "outputs": [
    {
     "data": {
      "text/plain": [
       "True"
      ]
     },
     "execution_count": 29,
     "metadata": {},
     "output_type": "execute_result"
    }
   ],
   "source": [
    "# Load environment variables\n",
    "from dotenv import load_dotenv\n",
    "import openai\n",
    "\n",
    "load_dotenv(\"../../.env\")"
   ]
  },
  {
   "cell_type": "markdown",
   "id": "97d4a5e7",
   "metadata": {},
   "source": [
    "# Zero shot"
   ]
  },
  {
   "cell_type": "markdown",
   "id": "3bb2a726",
   "metadata": {},
   "source": [
    "No demonstration. No training examples are provided to the LLM."
   ]
  },
  {
   "cell_type": "code",
   "execution_count": 11,
   "id": "682f2140",
   "metadata": {},
   "outputs": [
    {
     "name": "stdout",
     "output_type": "stream",
     "text": [
      "\n",
      "Classify the given news headlines into one of the following categories: [business, entertainment, health, sports, technology]\n",
      "\n",
      "Text: Pixel 7 Pro Expert Hands On Review. \n",
      "\n"
     ]
    }
   ],
   "source": [
    "prompt = f\"\"\"\n",
    "Classify the given news headlines into one of the following categories: [business, entertainment, health, sports, technology]\n",
    "\n",
    "Text: Pixel 7 Pro Expert Hands On Review. \n",
    "\"\"\"\n",
    "\n",
    "print(prompt)"
   ]
  },
  {
   "cell_type": "code",
   "execution_count": 10,
   "id": "22d5c968",
   "metadata": {},
   "outputs": [
    {
     "name": "stdout",
     "output_type": "stream",
     "text": [
      "technology\n"
     ]
    }
   ],
   "source": [
    "messages = [\n",
    "    {\"role\": \"system\", \"content\": \"You are a helpful assistant.\"},\n",
    "    {\"role\": \"user\", \"content\": prompt},\n",
    "]\n",
    "\n",
    "chatbot_response = openai.ChatCompletion.create(\n",
    "  model=\"gpt-4\",\n",
    "  messages=messages,\n",
    "  temperature=1,\n",
    "  max_tokens=1500,\n",
    ")\n",
    "\n",
    "print(chatbot_response.choices[0].message[\"content\"])"
   ]
  },
  {
   "cell_type": "markdown",
   "id": "c96ad23c",
   "metadata": {},
   "source": [
    "# One shot \n",
    "\n",
    "Demonstration with one example"
   ]
  },
  {
   "cell_type": "code",
   "execution_count": 14,
   "id": "4ed7029d",
   "metadata": {},
   "outputs": [
    {
     "name": "stdout",
     "output_type": "stream",
     "text": [
      "\n",
      "Classify the sentiment:\n",
      "It was a great movie and excellent experience: positive\n",
      "I disliked the food and the atmo- sphere:\n",
      "\n"
     ]
    }
   ],
   "source": [
    "prompt = f\"\"\"\n",
    "Classify the sentiment:\n",
    "It was a great movie and excellent experience: positive\n",
    "I disliked the food and the atmo- sphere:\n",
    "\"\"\"\n",
    "\n",
    "print(prompt)"
   ]
  },
  {
   "cell_type": "code",
   "execution_count": 15,
   "id": "affefd41",
   "metadata": {},
   "outputs": [
    {
     "name": "stdout",
     "output_type": "stream",
     "text": [
      "negative\n"
     ]
    }
   ],
   "source": [
    "messages = [\n",
    "    {\"role\": \"system\", \"content\": \"You are a helpful assistant.\"},\n",
    "    {\"role\": \"user\", \"content\": prompt},\n",
    "]\n",
    "\n",
    "chatbot_response = openai.ChatCompletion.create(\n",
    "  model=\"gpt-4\",\n",
    "  messages=messages,\n",
    "  temperature=1,\n",
    "  max_tokens=1500,\n",
    ")\n",
    "\n",
    "print(chatbot_response.choices[0].message[\"content\"])"
   ]
  },
  {
   "cell_type": "markdown",
   "id": "04b07c55",
   "metadata": {},
   "source": [
    "# Few-shot \n",
    "\n",
    "Demonstration with more examples"
   ]
  },
  {
   "cell_type": "code",
   "execution_count": 16,
   "id": "390e712e",
   "metadata": {},
   "outputs": [
    {
     "name": "stdout",
     "output_type": "stream",
     "text": [
      "\n",
      "Classify the sentiment:\n",
      "It was a great movie and excellent experience: positive\n",
      "The booths were crowded, and it was way too noisy: negative\n",
      "I enjoyed myself: positive\n",
      "I disliked the food and the atmo- sphere:\n",
      "\n"
     ]
    }
   ],
   "source": [
    "prompt = f\"\"\"\n",
    "Classify the sentiment:\n",
    "It was a great movie and excellent experience: positive\n",
    "The booths were crowded, and it was way too noisy: negative\n",
    "I enjoyed myself: positive\n",
    "I disliked the food and the atmo- sphere:\n",
    "\"\"\"\n",
    "\n",
    "print(prompt)"
   ]
  },
  {
   "cell_type": "code",
   "execution_count": 17,
   "id": "05d7f89b",
   "metadata": {},
   "outputs": [
    {
     "name": "stdout",
     "output_type": "stream",
     "text": [
      "negative\n"
     ]
    }
   ],
   "source": [
    "messages = [\n",
    "    {\"role\": \"system\", \"content\": \"You are a helpful assistant.\"},\n",
    "    {\"role\": \"user\", \"content\": prompt},\n",
    "]\n",
    "\n",
    "chatbot_response = openai.ChatCompletion.create(\n",
    "  model=\"gpt-4\",\n",
    "  messages=messages,\n",
    "  temperature=1,\n",
    "  max_tokens=1500,\n",
    ")\n",
    "\n",
    "print(chatbot_response.choices[0].message[\"content\"])"
   ]
  },
  {
   "cell_type": "markdown",
   "id": "8feb291c",
   "metadata": {},
   "source": [
    "# Chain of Thought Prompting"
   ]
  },
  {
   "cell_type": "code",
   "execution_count": 20,
   "id": "7a74952f",
   "metadata": {},
   "outputs": [],
   "source": [
    "prompt = \"\"\"\n",
    "There are four schools\n",
    "competing at a basketball\n",
    "tournament. Each school\n",
    "has sent a girls’ basketball\n",
    "team and a boys’ basketball\n",
    "team and each team has 5\n",
    "players each. Each school\n",
    "has also sent a coach for\n",
    "each team. In total, how\n",
    "many people have all of the\n",
    "schools sent?\n",
    "\"\"\""
   ]
  },
  {
   "cell_type": "code",
   "execution_count": 22,
   "id": "7c481756",
   "metadata": {},
   "outputs": [
    {
     "name": "stdout",
     "output_type": "stream",
     "text": [
      "Each school has sent a total of 4 teams (2 boys and 2 girls) and 4 coaches, which is a total of 20 players and 4 coaches per school. Therefore, all four schools combined have sent 80 players and 16 coaches. So in total, 96 people have been sent to the tournament (80 players + 16 coaches).\n"
     ]
    }
   ],
   "source": [
    "messages = [\n",
    "    {\"role\": \"system\", \"content\": \"You are a helpful assistant.\"},\n",
    "    {\"role\": \"user\", \"content\": prompt},\n",
    "]\n",
    "\n",
    "chatbot_response = openai.ChatCompletion.create(\n",
    "  model=\"gpt-3.5-turbo\",\n",
    "  messages=messages,\n",
    "  temperature=1,\n",
    "  max_tokens=1500,\n",
    ")\n",
    "\n",
    "print(chatbot_response.choices[0].message[\"content\"])"
   ]
  },
  {
   "cell_type": "markdown",
   "id": "cda632c5",
   "metadata": {},
   "source": [
    "### Let's think step by step"
   ]
  },
  {
   "cell_type": "code",
   "execution_count": 23,
   "id": "9d3c765a",
   "metadata": {},
   "outputs": [],
   "source": [
    "prompt = \"\"\"\n",
    "There are four schools\n",
    "competing at a basketball\n",
    "tournament. Each school\n",
    "has sent a girls’ basketball\n",
    "team and a boys’ basketball\n",
    "team and each team has 5\n",
    "players each. Each school\n",
    "has also sent a coach for\n",
    "each team. In total, how\n",
    "many people have all of the\n",
    "schools sent?\n",
    "\n",
    "Let's think step by step\n",
    "\"\"\""
   ]
  },
  {
   "cell_type": "code",
   "execution_count": 24,
   "id": "2bbda454",
   "metadata": {},
   "outputs": [
    {
     "name": "stdout",
     "output_type": "stream",
     "text": [
      "Sure! Let's break it down.\n",
      "\n",
      "We know that there are four schools, and each school has sent two basketball teams (girls and boys) and a coach for each team. \n",
      "\n",
      "So the total number of teams is 4 x 2 = 8. \n",
      "\n",
      "Each team has 5 players and 1 coach, so the total number of people on each team is 5 + 1 = 6. \n",
      "\n",
      "Therefore, the total number of people that all the schools have sent is 8 x 6 = 48. \n",
      "\n",
      "So the final answer is 48.\n"
     ]
    }
   ],
   "source": [
    "messages = [\n",
    "    {\"role\": \"system\", \"content\": \"You are a helpful assistant.\"},\n",
    "    {\"role\": \"user\", \"content\": prompt},\n",
    "]\n",
    "\n",
    "chatbot_response = openai.ChatCompletion.create(\n",
    "  model=\"gpt-3.5-turbo\",\n",
    "  messages=messages,\n",
    "  temperature=1,\n",
    "  max_tokens=1500,\n",
    ")\n",
    "\n",
    "print(chatbot_response.choices[0].message[\"content\"])"
   ]
  }
 ],
 "metadata": {
  "kernelspec": {
   "display_name": "Python 3 (ipykernel)",
   "language": "python",
   "name": "python3"
  },
  "language_info": {
   "codemirror_mode": {
    "name": "ipython",
    "version": 3
   },
   "file_extension": ".py",
   "mimetype": "text/x-python",
   "name": "python",
   "nbconvert_exporter": "python",
   "pygments_lexer": "ipython3",
   "version": "3.10.11"
  }
 },
 "nbformat": 4,
 "nbformat_minor": 5
}
